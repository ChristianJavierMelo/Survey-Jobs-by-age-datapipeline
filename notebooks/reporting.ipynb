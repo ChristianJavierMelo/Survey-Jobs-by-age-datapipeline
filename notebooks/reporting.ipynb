{
 "cells": [
  {
   "cell_type": "markdown",
   "metadata": {},
   "source": [
    "### Data Vizualization"
   ]
  },
  {
   "cell_type": "code",
   "execution_count": 1,
   "metadata": {},
   "outputs": [],
   "source": [
    "# installations (be careful!!!)\n",
    "#!pip install missingno"
   ]
  },
  {
   "cell_type": "code",
   "execution_count": 1,
   "metadata": {},
   "outputs": [],
   "source": [
    "# all modules\n",
    "\n",
    "import warnings\n",
    "import pandas as pd\n",
    "import matplotlib.pyplot as plt\n",
    "import seaborn as sns\n",
    "from zipfile import ZipFile"
   ]
  },
  {
   "cell_type": "code",
   "execution_count": 2,
   "metadata": {},
   "outputs": [],
   "source": [
    "# global stuff\n",
    "\n",
    "warnings.filterwarnings('ignore')\n",
    "%matplotlib inline\n",
    "pd.set_option('display.max_rows', 13)\n",
    "pd.set_option('display.max_columns', 13)"
   ]
  },
  {
   "cell_type": "code",
   "execution_count": 3,
   "metadata": {},
   "outputs": [
    {
     "data": {
      "text/html": [
       "<div>\n",
       "<style scoped>\n",
       "    .dataframe tbody tr th:only-of-type {\n",
       "        vertical-align: middle;\n",
       "    }\n",
       "\n",
       "    .dataframe tbody tr th {\n",
       "        vertical-align: top;\n",
       "    }\n",
       "\n",
       "    .dataframe thead th {\n",
       "        text-align: right;\n",
       "    }\n",
       "</style>\n",
       "<table border=\"1\" class=\"dataframe\">\n",
       "  <thead>\n",
       "    <tr style=\"text-align: right;\">\n",
       "      <th></th>\n",
       "      <th>Country</th>\n",
       "      <th>Job_Title</th>\n",
       "      <th>age</th>\n",
       "      <th>Quantity</th>\n",
       "      <th>Percentage</th>\n",
       "    </tr>\n",
       "  </thead>\n",
       "  <tbody>\n",
       "    <tr>\n",
       "      <th>0</th>\n",
       "      <td>UnitedKingdom</td>\n",
       "      <td>unemployed</td>\n",
       "      <td>43</td>\n",
       "      <td>27</td>\n",
       "      <td>2.8%</td>\n",
       "    </tr>\n",
       "    <tr>\n",
       "      <th>1</th>\n",
       "      <td>Germany</td>\n",
       "      <td>unemployed</td>\n",
       "      <td>19</td>\n",
       "      <td>27</td>\n",
       "      <td>2.8%</td>\n",
       "    </tr>\n",
       "    <tr>\n",
       "      <th>2</th>\n",
       "      <td>Germany</td>\n",
       "      <td>unemployed</td>\n",
       "      <td>18</td>\n",
       "      <td>26</td>\n",
       "      <td>2.69%</td>\n",
       "    </tr>\n",
       "    <tr>\n",
       "      <th>3</th>\n",
       "      <td>Germany</td>\n",
       "      <td>unemployed</td>\n",
       "      <td>17</td>\n",
       "      <td>26</td>\n",
       "      <td>2.69%</td>\n",
       "    </tr>\n",
       "    <tr>\n",
       "      <th>4</th>\n",
       "      <td>Spain</td>\n",
       "      <td>unemployed</td>\n",
       "      <td>41</td>\n",
       "      <td>25</td>\n",
       "      <td>2.59%</td>\n",
       "    </tr>\n",
       "    <tr>\n",
       "      <th>...</th>\n",
       "      <td>...</td>\n",
       "      <td>...</td>\n",
       "      <td>...</td>\n",
       "      <td>...</td>\n",
       "      <td>...</td>\n",
       "    </tr>\n",
       "    <tr>\n",
       "      <th>6135</th>\n",
       "      <td>Latvia</td>\n",
       "      <td>unemployed</td>\n",
       "      <td>14</td>\n",
       "      <td>1</td>\n",
       "      <td>0.1%</td>\n",
       "    </tr>\n",
       "    <tr>\n",
       "      <th>6136</th>\n",
       "      <td>Portugal</td>\n",
       "      <td>unemployed</td>\n",
       "      <td>14</td>\n",
       "      <td>1</td>\n",
       "      <td>0.1%</td>\n",
       "    </tr>\n",
       "    <tr>\n",
       "      <th>6137</th>\n",
       "      <td>Slovakia</td>\n",
       "      <td>unemployed</td>\n",
       "      <td>14</td>\n",
       "      <td>1</td>\n",
       "      <td>0.1%</td>\n",
       "    </tr>\n",
       "    <tr>\n",
       "      <th>6138</th>\n",
       "      <td>UnitedKingdom</td>\n",
       "      <td>Data Security Administrator</td>\n",
       "      <td>14</td>\n",
       "      <td>1</td>\n",
       "      <td>0.1%</td>\n",
       "    </tr>\n",
       "    <tr>\n",
       "      <th>6139</th>\n",
       "      <td>UnitedKingdom</td>\n",
       "      <td>Head of Information Systems and Data Processing</td>\n",
       "      <td>14</td>\n",
       "      <td>1</td>\n",
       "      <td>0.1%</td>\n",
       "    </tr>\n",
       "  </tbody>\n",
       "</table>\n",
       "<p>6140 rows × 5 columns</p>\n",
       "</div>"
      ],
      "text/plain": [
       "            Country                                        Job_Title  age  \\\n",
       "0     UnitedKingdom                                       unemployed   43   \n",
       "1           Germany                                       unemployed   19   \n",
       "2           Germany                                       unemployed   18   \n",
       "3           Germany                                       unemployed   17   \n",
       "4             Spain                                       unemployed   41   \n",
       "...             ...                                              ...  ...   \n",
       "6135         Latvia                                       unemployed   14   \n",
       "6136       Portugal                                       unemployed   14   \n",
       "6137       Slovakia                                       unemployed   14   \n",
       "6138  UnitedKingdom                      Data Security Administrator   14   \n",
       "6139  UnitedKingdom  Head of Information Systems and Data Processing   14   \n",
       "\n",
       "      Quantity Percentage  \n",
       "0           27       2.8%  \n",
       "1           27       2.8%  \n",
       "2           26      2.69%  \n",
       "3           26      2.69%  \n",
       "4           25      2.59%  \n",
       "...        ...        ...  \n",
       "6135         1       0.1%  \n",
       "6136         1       0.1%  \n",
       "6137         1       0.1%  \n",
       "6138         1       0.1%  \n",
       "6139         1       0.1%  \n",
       "\n",
       "[6140 rows x 5 columns]"
      ]
     },
     "execution_count": 3,
     "metadata": {},
     "output_type": "execute_result"
    }
   ],
   "source": [
    "# load dataset\n",
    "\n",
    "data = pd.read_csv('../data/results/analysed_age_info.csv')\n",
    "data"
   ]
  },
  {
   "cell_type": "code",
   "execution_count": 4,
   "metadata": {},
   "outputs": [
    {
     "data": {
      "text/html": [
       "<div>\n",
       "<style scoped>\n",
       "    .dataframe tbody tr th:only-of-type {\n",
       "        vertical-align: middle;\n",
       "    }\n",
       "\n",
       "    .dataframe tbody tr th {\n",
       "        vertical-align: top;\n",
       "    }\n",
       "\n",
       "    .dataframe thead th {\n",
       "        text-align: right;\n",
       "    }\n",
       "</style>\n",
       "<table border=\"1\" class=\"dataframe\">\n",
       "  <thead>\n",
       "    <tr style=\"text-align: right;\">\n",
       "      <th></th>\n",
       "      <th>Job_Title</th>\n",
       "      <th>Quantity</th>\n",
       "    </tr>\n",
       "  </thead>\n",
       "  <tbody>\n",
       "    <tr>\n",
       "      <th>156</th>\n",
       "      <td>unemployed</td>\n",
       "      <td>844</td>\n",
       "    </tr>\n",
       "    <tr>\n",
       "      <th>58</th>\n",
       "      <td>Data Officer</td>\n",
       "      <td>90</td>\n",
       "    </tr>\n",
       "    <tr>\n",
       "      <th>132</th>\n",
       "      <td>Geographic Information Systems Data Specialist...</td>\n",
       "      <td>84</td>\n",
       "    </tr>\n",
       "    <tr>\n",
       "      <th>1</th>\n",
       "      <td>Automatic Data Processing Customer Liaison (AD...</td>\n",
       "      <td>80</td>\n",
       "    </tr>\n",
       "    <tr>\n",
       "      <th>15</th>\n",
       "      <td>Computer or Data Processing Systems Consultant</td>\n",
       "      <td>80</td>\n",
       "    </tr>\n",
       "  </tbody>\n",
       "</table>\n",
       "</div>"
      ],
      "text/plain": [
       "                                             Job_Title  Quantity\n",
       "156                                         unemployed       844\n",
       "58                                        Data Officer        90\n",
       "132  Geographic Information Systems Data Specialist...        84\n",
       "1    Automatic Data Processing Customer Liaison (AD...        80\n",
       "15      Computer or Data Processing Systems Consultant        80"
      ]
     },
     "execution_count": 4,
     "metadata": {},
     "output_type": "execute_result"
    }
   ],
   "source": [
    "serie_grouped = data.groupby(['Job_Title'])['Quantity'].count()\n",
    "df_grouped = pd.DataFrame(serie_grouped).reset_index()\n",
    "df_grouped_desc = df_grouped.sort_values(by='Quantity', ascending=False)\n",
    "graphic_pos = df_grouped_desc.head(5)\n",
    "graphic_pos"
   ]
  },
  {
   "cell_type": "code",
   "execution_count": 5,
   "metadata": {},
   "outputs": [
    {
     "data": {
      "text/html": [
       "<div>\n",
       "<style scoped>\n",
       "    .dataframe tbody tr th:only-of-type {\n",
       "        vertical-align: middle;\n",
       "    }\n",
       "\n",
       "    .dataframe tbody tr th {\n",
       "        vertical-align: top;\n",
       "    }\n",
       "\n",
       "    .dataframe thead th {\n",
       "        text-align: right;\n",
       "    }\n",
       "</style>\n",
       "<table border=\"1\" class=\"dataframe\">\n",
       "  <thead>\n",
       "    <tr style=\"text-align: right;\">\n",
       "      <th></th>\n",
       "      <th>Job_Title</th>\n",
       "      <th>Quantity</th>\n",
       "    </tr>\n",
       "  </thead>\n",
       "  <tbody>\n",
       "    <tr>\n",
       "      <th>58</th>\n",
       "      <td>Data Officer</td>\n",
       "      <td>90</td>\n",
       "    </tr>\n",
       "    <tr>\n",
       "      <th>132</th>\n",
       "      <td>Geographic Information Systems Data Specialist...</td>\n",
       "      <td>84</td>\n",
       "    </tr>\n",
       "    <tr>\n",
       "      <th>1</th>\n",
       "      <td>Automatic Data Processing Customer Liaison (AD...</td>\n",
       "      <td>80</td>\n",
       "    </tr>\n",
       "    <tr>\n",
       "      <th>15</th>\n",
       "      <td>Computer or Data Processing Systems Consultant</td>\n",
       "      <td>80</td>\n",
       "    </tr>\n",
       "    <tr>\n",
       "      <th>23</th>\n",
       "      <td>Data Architect</td>\n",
       "      <td>79</td>\n",
       "    </tr>\n",
       "  </tbody>\n",
       "</table>\n",
       "</div>"
      ],
      "text/plain": [
       "                                             Job_Title  Quantity\n",
       "58                                        Data Officer        90\n",
       "132  Geographic Information Systems Data Specialist...        84\n",
       "1    Automatic Data Processing Customer Liaison (AD...        80\n",
       "15      Computer or Data Processing Systems Consultant        80\n",
       "23                                      Data Architect        79"
      ]
     },
     "execution_count": 5,
     "metadata": {},
     "output_type": "execute_result"
    }
   ],
   "source": [
    "df_grouped_desc_onlyJobs = df_grouped_desc[df_grouped_desc.Job_Title !='unemployed']\n",
    "graphic_job = df_grouped_desc_onlyJobs.head()\n",
    "graphic_job"
   ]
  },
  {
   "cell_type": "code",
   "execution_count": 6,
   "metadata": {},
   "outputs": [
    {
     "data": {
      "text/html": [
       "<div>\n",
       "<style scoped>\n",
       "    .dataframe tbody tr th:only-of-type {\n",
       "        vertical-align: middle;\n",
       "    }\n",
       "\n",
       "    .dataframe tbody tr th {\n",
       "        vertical-align: top;\n",
       "    }\n",
       "\n",
       "    .dataframe thead th {\n",
       "        text-align: right;\n",
       "    }\n",
       "</style>\n",
       "<table border=\"1\" class=\"dataframe\">\n",
       "  <thead>\n",
       "    <tr style=\"text-align: right;\">\n",
       "      <th></th>\n",
       "      <th>Job_Title</th>\n",
       "      <th>age</th>\n",
       "      <th>Quantity</th>\n",
       "    </tr>\n",
       "  </thead>\n",
       "  <tbody>\n",
       "    <tr>\n",
       "      <th>3026</th>\n",
       "      <td>unemployed</td>\n",
       "      <td>20</td>\n",
       "      <td>22</td>\n",
       "    </tr>\n",
       "    <tr>\n",
       "      <th>3025</th>\n",
       "      <td>unemployed</td>\n",
       "      <td>19</td>\n",
       "      <td>22</td>\n",
       "    </tr>\n",
       "    <tr>\n",
       "      <th>3029</th>\n",
       "      <td>unemployed</td>\n",
       "      <td>23</td>\n",
       "      <td>21</td>\n",
       "    </tr>\n",
       "    <tr>\n",
       "      <th>3036</th>\n",
       "      <td>unemployed</td>\n",
       "      <td>30</td>\n",
       "      <td>21</td>\n",
       "    </tr>\n",
       "    <tr>\n",
       "      <th>3028</th>\n",
       "      <td>unemployed</td>\n",
       "      <td>22</td>\n",
       "      <td>21</td>\n",
       "    </tr>\n",
       "    <tr>\n",
       "      <th>3022</th>\n",
       "      <td>unemployed</td>\n",
       "      <td>16</td>\n",
       "      <td>21</td>\n",
       "    </tr>\n",
       "    <tr>\n",
       "      <th>3023</th>\n",
       "      <td>unemployed</td>\n",
       "      <td>17</td>\n",
       "      <td>20</td>\n",
       "    </tr>\n",
       "    <tr>\n",
       "      <th>3032</th>\n",
       "      <td>unemployed</td>\n",
       "      <td>26</td>\n",
       "      <td>20</td>\n",
       "    </tr>\n",
       "    <tr>\n",
       "      <th>3027</th>\n",
       "      <td>unemployed</td>\n",
       "      <td>21</td>\n",
       "      <td>20</td>\n",
       "    </tr>\n",
       "    <tr>\n",
       "      <th>3024</th>\n",
       "      <td>unemployed</td>\n",
       "      <td>18</td>\n",
       "      <td>19</td>\n",
       "    </tr>\n",
       "  </tbody>\n",
       "</table>\n",
       "</div>"
      ],
      "text/plain": [
       "       Job_Title  age  Quantity\n",
       "3026  unemployed   20        22\n",
       "3025  unemployed   19        22\n",
       "3029  unemployed   23        21\n",
       "3036  unemployed   30        21\n",
       "3028  unemployed   22        21\n",
       "3022  unemployed   16        21\n",
       "3023  unemployed   17        20\n",
       "3032  unemployed   26        20\n",
       "3027  unemployed   21        20\n",
       "3024  unemployed   18        19"
      ]
     },
     "execution_count": 6,
     "metadata": {},
     "output_type": "execute_result"
    }
   ],
   "source": [
    "serie_grouped2 = data.groupby(['Job_Title','age'])['Quantity'].count()\n",
    "df_grouped2 = pd.DataFrame(serie_grouped2).reset_index()\n",
    "df_grouped_desc2 = df_grouped2.sort_values(by='Quantity', ascending=False)\n",
    "graphic_unem_age = df_grouped_desc2.head(10)\n",
    "graphic_unem_age"
   ]
  },
  {
   "cell_type": "code",
   "execution_count": 16,
   "metadata": {},
   "outputs": [
    {
     "data": {
      "text/html": [
       "<div>\n",
       "<style scoped>\n",
       "    .dataframe tbody tr th:only-of-type {\n",
       "        vertical-align: middle;\n",
       "    }\n",
       "\n",
       "    .dataframe tbody tr th {\n",
       "        vertical-align: top;\n",
       "    }\n",
       "\n",
       "    .dataframe thead th {\n",
       "        text-align: right;\n",
       "    }\n",
       "</style>\n",
       "<table border=\"1\" class=\"dataframe\">\n",
       "  <thead>\n",
       "    <tr style=\"text-align: right;\">\n",
       "      <th></th>\n",
       "      <th>Country</th>\n",
       "      <th>Job_Title</th>\n",
       "      <th>Quantity</th>\n",
       "    </tr>\n",
       "  </thead>\n",
       "  <tbody>\n",
       "    <tr>\n",
       "      <th>1865</th>\n",
       "      <td>UnitedKingdom</td>\n",
       "      <td>unemployed</td>\n",
       "      <td>52</td>\n",
       "    </tr>\n",
       "    <tr>\n",
       "      <th>1017</th>\n",
       "      <td>Italy</td>\n",
       "      <td>unemployed</td>\n",
       "      <td>52</td>\n",
       "    </tr>\n",
       "    <tr>\n",
       "      <th>685</th>\n",
       "      <td>Germany</td>\n",
       "      <td>unemployed</td>\n",
       "      <td>52</td>\n",
       "    </tr>\n",
       "    <tr>\n",
       "      <th>550</th>\n",
       "      <td>France</td>\n",
       "      <td>unemployed</td>\n",
       "      <td>52</td>\n",
       "    </tr>\n",
       "    <tr>\n",
       "      <th>1295</th>\n",
       "      <td>Poland</td>\n",
       "      <td>unemployed</td>\n",
       "      <td>51</td>\n",
       "    </tr>\n",
       "    <tr>\n",
       "      <th>1664</th>\n",
       "      <td>Spain</td>\n",
       "      <td>unemployed</td>\n",
       "      <td>51</td>\n",
       "    </tr>\n",
       "    <tr>\n",
       "      <th>1164</th>\n",
       "      <td>Netherlands</td>\n",
       "      <td>unemployed</td>\n",
       "      <td>44</td>\n",
       "    </tr>\n",
       "    <tr>\n",
       "      <th>762</th>\n",
       "      <td>Greece</td>\n",
       "      <td>unemployed</td>\n",
       "      <td>42</td>\n",
       "    </tr>\n",
       "    <tr>\n",
       "      <th>1732</th>\n",
       "      <td>Sweden</td>\n",
       "      <td>unemployed</td>\n",
       "      <td>37</td>\n",
       "    </tr>\n",
       "    <tr>\n",
       "      <th>115</th>\n",
       "      <td>Belgium</td>\n",
       "      <td>unemployed</td>\n",
       "      <td>37</td>\n",
       "    </tr>\n",
       "  </tbody>\n",
       "</table>\n",
       "</div>"
      ],
      "text/plain": [
       "            Country   Job_Title  Quantity\n",
       "1865  UnitedKingdom  unemployed        52\n",
       "1017          Italy  unemployed        52\n",
       "685         Germany  unemployed        52\n",
       "550          France  unemployed        52\n",
       "1295         Poland  unemployed        51\n",
       "1664          Spain  unemployed        51\n",
       "1164    Netherlands  unemployed        44\n",
       "762          Greece  unemployed        42\n",
       "1732         Sweden  unemployed        37\n",
       "115         Belgium  unemployed        37"
      ]
     },
     "execution_count": 16,
     "metadata": {},
     "output_type": "execute_result"
    }
   ],
   "source": [
    "serie_grouped3 = data.groupby(['Country','Job_Title'])['Quantity'].count()\n",
    "df_grouped3 = pd.DataFrame(serie_grouped3).reset_index()\n",
    "df_grouped_desc3 = df_grouped3.sort_values(by='Quantity', ascending=False)\n",
    "graphic_unem_country = df_grouped_desc3.head(10)\n",
    "graphic_unem_country"
   ]
  },
  {
   "cell_type": "code",
   "execution_count": 17,
   "metadata": {},
   "outputs": [
    {
     "data": {
      "text/html": [
       "<div>\n",
       "<style scoped>\n",
       "    .dataframe tbody tr th:only-of-type {\n",
       "        vertical-align: middle;\n",
       "    }\n",
       "\n",
       "    .dataframe tbody tr th {\n",
       "        vertical-align: top;\n",
       "    }\n",
       "\n",
       "    .dataframe thead th {\n",
       "        text-align: right;\n",
       "    }\n",
       "</style>\n",
       "<table border=\"1\" class=\"dataframe\">\n",
       "  <thead>\n",
       "    <tr style=\"text-align: right;\">\n",
       "      <th></th>\n",
       "      <th>Country</th>\n",
       "      <th>Quantity</th>\n",
       "    </tr>\n",
       "  </thead>\n",
       "  <tbody>\n",
       "    <tr>\n",
       "      <th>10</th>\n",
       "      <td>Germany</td>\n",
       "      <td>778</td>\n",
       "    </tr>\n",
       "    <tr>\n",
       "      <th>9</th>\n",
       "      <td>France</td>\n",
       "      <td>694</td>\n",
       "    </tr>\n",
       "    <tr>\n",
       "      <th>14</th>\n",
       "      <td>Italy</td>\n",
       "      <td>667</td>\n",
       "    </tr>\n",
       "    <tr>\n",
       "      <th>27</th>\n",
       "      <td>UnitedKingdom</td>\n",
       "      <td>640</td>\n",
       "    </tr>\n",
       "    <tr>\n",
       "      <th>25</th>\n",
       "      <td>Spain</td>\n",
       "      <td>584</td>\n",
       "    </tr>\n",
       "    <tr>\n",
       "      <th>20</th>\n",
       "      <td>Poland</td>\n",
       "      <td>542</td>\n",
       "    </tr>\n",
       "    <tr>\n",
       "      <th>22</th>\n",
       "      <td>Romania</td>\n",
       "      <td>275</td>\n",
       "    </tr>\n",
       "    <tr>\n",
       "      <th>19</th>\n",
       "      <td>Netherlands</td>\n",
       "      <td>207</td>\n",
       "    </tr>\n",
       "    <tr>\n",
       "      <th>21</th>\n",
       "      <td>Portugal</td>\n",
       "      <td>176</td>\n",
       "    </tr>\n",
       "    <tr>\n",
       "      <th>11</th>\n",
       "      <td>Greece</td>\n",
       "      <td>174</td>\n",
       "    </tr>\n",
       "  </tbody>\n",
       "</table>\n",
       "</div>"
      ],
      "text/plain": [
       "          Country  Quantity\n",
       "10        Germany       778\n",
       "9          France       694\n",
       "14          Italy       667\n",
       "27  UnitedKingdom       640\n",
       "25          Spain       584\n",
       "20         Poland       542\n",
       "22        Romania       275\n",
       "19    Netherlands       207\n",
       "21       Portugal       176\n",
       "11         Greece       174"
      ]
     },
     "execution_count": 17,
     "metadata": {},
     "output_type": "execute_result"
    }
   ],
   "source": [
    "serie_grouped4 = data.groupby(['Country'])['Quantity'].count()\n",
    "df_grouped4 = pd.DataFrame(serie_grouped4).reset_index()\n",
    "df_grouped4 = df_grouped4.sort_values(by='Quantity', ascending=False)\n",
    "graphic_amountsurveys_country = df_grouped4.head(10)\n",
    "graphic_amountsurveys_country"
   ]
  },
  {
   "cell_type": "code",
   "execution_count": null,
   "metadata": {},
   "outputs": [],
   "source": []
  },
  {
   "cell_type": "code",
   "execution_count": 20,
   "metadata": {},
   "outputs": [],
   "source": [
    "def plot_returns(graphic_pos):\n",
    "    title = 'Top 5 total jobs'\n",
    "    graphics = graphic_pos.sort_values('Quantity', ascending=False)\n",
    "    plt.figure(figsize=(15, 8))\n",
    "    chart = sns.barplot(data=graphics, x='Job_Title', y='Quantity')\n",
    "    plt.title(title + \"\\n\", fontsize=16)\n",
    "    return chart"
   ]
  },
  {
   "cell_type": "code",
   "execution_count": 21,
   "metadata": {},
   "outputs": [
    {
     "data": {
      "image/png": "[encoded data removed]",
      "text/plain": [
       "<Figure size 1080x576 with 1 Axes>"
      ]
     },
     "metadata": {
      "needs_background": "light"
     },
     "output_type": "display_data"
    }
   ],
   "source": [
    "plot_returns(graphic_pos);"
   ]
  },
  {
   "cell_type": "code",
   "execution_count": 22,
   "metadata": {},
   "outputs": [],
   "source": [
    "def Top5JobTitles(graphic_job):\n",
    "    title = 'Top 5 job titles'\n",
    "    graphics = graphic_job.sort_values('Quantity', ascending=False)\n",
    "    plt.figure(figsize=(15, 8))\n",
    "    chart_job = sns.barplot(data=graphics, x='Job_Title', y='Quantity')\n",
    "    plt.title(title + \"\\n\", fontsize=16)\n",
    "    return chart_job"
   ]
  },
  {
   "cell_type": "code",
   "execution_count": 23,
   "metadata": {},
   "outputs": [
    {
     "data": {
      "image/png": "[encoded data removed]",
      "text/plain": [
       "<Figure size 1080x576 with 1 Axes>"
      ]
     },
     "metadata": {
      "needs_background": "light"
     },
     "output_type": "display_data"
    }
   ],
   "source": [
    "Top5JobTitles(graphic_job);"
   ]
  },
  {
   "cell_type": "code",
   "execution_count": 24,
   "metadata": {},
   "outputs": [],
   "source": [
    "def AmountUnemployedAge(graphic_unem_age):\n",
    "    title = 'Top 10 amount of unemployed per age'\n",
    "    graphics = graphic_unem_age.sort_values('Quantity', ascending=False)\n",
    "    plt.figure(figsize=(15, 8))\n",
    "    chart_unem_age = sns.barplot(data=graphics, x='age', y='Quantity')\n",
    "    plt.title(title + \"\\n\", fontsize=16)\n",
    "    return chart_unem_age"
   ]
  },
  {
   "cell_type": "code",
   "execution_count": 25,
   "metadata": {},
   "outputs": [
    {
     "data": {
      "image/png": "[encoded data removed]",
      "text/plain": [
       "<Figure size 1080x576 with 1 Axes>"
      ]
     },
     "metadata": {
      "needs_background": "light"
     },
     "output_type": "display_data"
    }
   ],
   "source": [
    "AmountUnemployedAge(graphic_unem_age);"
   ]
  },
  {
   "cell_type": "code",
   "execution_count": 26,
   "metadata": {},
   "outputs": [],
   "source": [
    "def TopUnemployedCountry(graphic_unem_country):\n",
    "    title = 'Top 10 amount of unemployed per country'\n",
    "    graphics = graphic_unem_country.sort_values('Quantity', ascending=False)\n",
    "    plt.figure(figsize=(15, 8))\n",
    "    chart_unem_country = sns.barplot(data=graphics, x='Country', y='Quantity')\n",
    "    plt.title(title + \"\\n\", fontsize=16)\n",
    "    return chart_unem_country"
   ]
  },
  {
   "cell_type": "code",
   "execution_count": 27,
   "metadata": {},
   "outputs": [
    {
     "data": {
      "image/png": "[encoded data removed]",
      "text/plain": [
       "<Figure size 1080x576 with 1 Axes>"
      ]
     },
     "metadata": {
      "needs_background": "light"
     },
     "output_type": "display_data"
    }
   ],
   "source": [
    "TopUnemployedCountry(graphic_unem_country);"
   ]
  },
  {
   "cell_type": "code",
   "execution_count": 28,
   "metadata": {},
   "outputs": [],
   "source": [
    "def TopAmountSurveys(graphic_amountsurveys_country):\n",
    "    title = 'Top 10 amount of surveys per country'\n",
    "    graphics = graphic_amountsurveys_country.sort_values('Quantity', ascending=False)\n",
    "    plt.figure(figsize=(15, 8))\n",
    "    chart_amountsurveys = sns.barplot(data=graphics, x='Country', y='Quantity')\n",
    "    plt.title(title + \"\\n\", fontsize=16)\n",
    "    return chart_amountsurveys"
   ]
  },
  {
   "cell_type": "code",
   "execution_count": 29,
   "metadata": {},
   "outputs": [
    {
     "data": {
      "image/png": "[encoded data removed]",
      "text/plain": [
       "<Figure size 1080x576 with 1 Axes>"
      ]
     },
     "metadata": {
      "needs_background": "light"
     },
     "output_type": "display_data"
    }
   ],
   "source": [
    "TopAmountSurveys(graphic_amountsurveys_country);"
   ]
  },
  {
   "cell_type": "code",
   "execution_count": 6,
   "metadata": {},
   "outputs": [],
   "source": [
    "# saving plots\n",
    "\n",
    "file_name = '../data/results/' + title + '.png'\n",
    "fig = barchart.get_figure()\n",
    "fig.savefig(file_name)"
   ]
  },
  {
   "cell_type": "code",
   "execution_count": null,
   "metadata": {},
   "outputs": [],
   "source": []
  },
  {
   "cell_type": "code",
   "execution_count": null,
   "metadata": {},
   "outputs": [],
   "source": []
  }
 ],
 "metadata": {
  "kernelspec": {
   "display_name": "Python [conda env:ironhack_env]",
   "language": "python",
   "name": "conda-env-ironhack_env-py"
  },
  "language_info": {
   "codemirror_mode": {
    "name": "ipython",
    "version": 3
   },
   "file_extension": ".py",
   "mimetype": "text/x-python",
   "name": "python",
   "nbconvert_exporter": "python",
   "pygments_lexer": "ipython3",
   "version": "3.7.6"
  }
 },
 "nbformat": 4,
 "nbformat_minor": 2
}
